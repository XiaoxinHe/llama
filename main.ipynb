{
 "cells": [
  {
   "cell_type": "code",
   "execution_count": null,
   "metadata": {},
   "outputs": [],
   "source": [
    "from ogb.nodeproppred import PygNodePropPredDataset\n",
    "import torch_geometric.transforms as T\n",
    "\n",
    "\n",
    "dataset = PygNodePropPredDataset(\n",
    "    name='ogbn-products', transform=T.ToSparseTensor())\n",
    "data = dataset[0]"
   ]
  },
  {
   "cell_type": "code",
   "execution_count": null,
   "metadata": {},
   "outputs": [],
   "source": [
    "# import os\n",
    "# import glob\n",
    "# import pandas as pd\n",
    "\n",
    "# nodeidx2asin = pd.read_csv(\n",
    "#     'dataset/ogbn_products/mapping/nodeidx2asin.csv.gz', compression='gzip')\n",
    "# nodeidx2asin.set_index('asin', inplace=True)\n",
    "\n",
    "\n",
    "# responses = glob.glob('output/ogbn-products/*.json')\n",
    "\n",
    "# for res in responses:\n",
    "#     asin = res.split('/')[-1].split('.json')[0]\n",
    "#     nodeidx = nodeidx2asin.loc[asin]['node idx']\n",
    "#     fn = f'output/ogbn-products/{nodeidx}.json'\n",
    "#     os.rename(res, fn)"
   ]
  },
  {
   "cell_type": "code",
   "execution_count": null,
   "metadata": {},
   "outputs": [],
   "source": [
    "import json\n",
    "import re\n",
    "import numpy as np\n",
    "import glob\n",
    "import pandas as pd\n",
    "\n",
    "\n",
    "responses = glob.glob('/home/xiaoxin/llama/output/ogbn-products/*.json')\n",
    "print(len(responses))\n",
    "\n",
    "# classes = labelidx2productcategory['product category'].str.lower().tolist()\n",
    "classes = ['home & kitchen', 'health & personal care', 'beauty', 'sports & outdoors', 'books', 'patio, lawn & garden', 'toys & games', 'cds & vinyl', 'cell phones & accessories', 'grocery & gourmet food', 'arts, crafts & sewing', 'clothing, shoes & jewelry', 'electronics', 'movies & tv', 'software', 'video games', 'automotive', 'pet supplies', 'office products', 'industrial & scientific', 'musical instruments', 'tools & home improvement',\n",
    "           'magazine subscriptions', 'baby products', 'nan', 'appliances', 'kitchen & dining', 'collectibles & fine art', 'all beauty', 'luxury beauty', 'amazon fashion', 'computers', 'all electronics', 'purchase circles', 'mp3 players & accessories', 'gift cards', 'office & school supplies', 'home improvement', 'camera & photo', 'gps & navigation', 'digital music', 'car electronics', 'baby', 'kindle store', 'kindle apps', 'furniture & decor']\n",
    "classes\n",
    "classes = [i if i is not np.nan else 'nan' for i in classes]\n",
    "classes_regex = '(' + '|'.join(classes) + ')'\n",
    "class_map = {x: i for i, x in enumerate(classes)}\n",
    "\n",
    "\n",
    "pred = []\n",
    "limit = len(responses)\n",
    "for fn in responses:\n",
    "    response = json.load(open(fn, \"r\"))\n",
    "    answer = response['generation']['content'].lower()\n",
    "\n",
    "    matches = re.findall(classes_regex, answer.strip())\n",
    "\n",
    "    mapped = [class_map[m] for m in matches]\n",
    "\n",
    "    if len(mapped) == 0:\n",
    "        # print(\"EMPTY: \", answer)\n",
    "        mapped = [1]\n",
    "\n",
    "    pred.append(mapped)\n",
    "\n",
    "responses_nodeidx = [int(res.split('/')[-1].split('.json')[0])\n",
    "                     for res in responses]\n",
    "labels = data.y[responses_nodeidx]\n",
    "\n",
    "accs = []\n",
    "for k in range(1, 6):\n",
    "    acc = np.mean([labels[row].item() in pred[row][:k]\n",
    "                  for row in range(limit)])\n",
    "    accs.append(acc)\n",
    "print('accs: ', accs)\n",
    "print('done')"
   ]
  },
  {
   "cell_type": "code",
   "execution_count": null,
   "metadata": {},
   "outputs": [],
   "source": []
  }
 ],
 "metadata": {
  "kernelspec": {
   "display_name": "TAG",
   "language": "python",
   "name": "python3"
  },
  "language_info": {
   "codemirror_mode": {
    "name": "ipython",
    "version": 3
   },
   "file_extension": ".py",
   "mimetype": "text/x-python",
   "name": "python",
   "nbconvert_exporter": "python",
   "pygments_lexer": "ipython3",
   "version": "3.8.17"
  },
  "orig_nbformat": 4
 },
 "nbformat": 4,
 "nbformat_minor": 2
}
